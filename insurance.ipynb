{
 "cells": [
  {
   "cell_type": "markdown",
   "id": "95155f4b",
   "metadata": {},
   "source": [
    "<span style=\"color:#FF7A00; font-size:30px; font-weight:bold;\">\n",
    "BDP Term Project (1조)\n",
    "</span>"
   ]
  },
  {
   "cell_type": "markdown",
   "id": "0312b4e8",
   "metadata": {},
   "source": [
    "<span style=\"font-size:20px; font-weight:bold;\">\n",
    "encar.com에서 국산 중고차 매물별 보험이력 불러오기\n",
    "</span>"
   ]
  },
  {
   "cell_type": "markdown",
   "id": "2f296596",
   "metadata": {},
   "source": [
    "<span style=\"font-size:17px; font-weight:bold;\">\n",
    "Driver Load\n",
    "</span>"
   ]
  },
  {
   "cell_type": "code",
   "execution_count": 3,
   "id": "19f5cf2d",
   "metadata": {
    "ExecuteTime": {
     "end_time": "2024-12-02T07:28:18.429610Z",
     "start_time": "2024-12-02T07:28:14.031885Z"
    }
   },
   "outputs": [
    {
     "name": "stdout",
     "output_type": "stream",
     "text": [
      "작업 완료\n"
     ]
    }
   ],
   "source": [
    "import csv\n",
    "import time\n",
    "import pandas as pd\n",
    "from selenium import webdriver\n",
    "from selenium.webdriver.common.by import By\n",
    "from selenium.webdriver.chrome.service import Service\n",
    "from selenium.webdriver.support.ui import WebDriverWait\n",
    "from selenium.webdriver.support import expected_conditions as EC\n",
    "from webdriver_manager.chrome import ChromeDriverManager\n",
    "\n",
    "# ChromeDriver 경로 지정\n",
    "driver_path = \"./chromedriver-win64/chromedriver.exe\" \n",
    "# Chrome WebDriver 실행\n",
    "driver = webdriver.Chrome(executable_path=driver_path)\n",
    "\n",
    "print(\"작업 완료\")"
   ]
  },
  {
   "cell_type": "markdown",
   "id": "9d5f24ed",
   "metadata": {
    "ExecuteTime": {
     "end_time": "2024-12-02T07:28:42.376192Z",
     "start_time": "2024-12-02T07:28:42.371595Z"
    }
   },
   "source": [
    "<span style=\"font-size:17px; font-weight:bold;\">\n",
    "Crawling\n",
    "</span>"
   ]
  },
  {
   "cell_type": "code",
   "execution_count": 5,
   "id": "90f5f5a8",
   "metadata": {
    "ExecuteTime": {
     "end_time": "2024-12-02T07:50:39.533218Z",
     "start_time": "2024-12-02T07:36:14.662215Z"
    }
   },
   "outputs": [
    {
     "name": "stdout",
     "output_type": "stream",
     "text": [
      "[HYUNDAI] 탐색 중...\n",
      "ID '38594498': 판매자가 보험이력을 공개하지 않았습니다.\n",
      "ID '38422413': 판매자가 보험이력을 공개하지 않았습니다.\n",
      "ID '38305155': 판매자가 보험이력을 공개하지 않았습니다.\n",
      "ID '37304198': 판매자가 보험이력을 공개하지 않았습니다.\n",
      "ID '37999816': 판매자가 보험이력을 공개하지 않았습니다.\n",
      "총 매물249개 탐색 완료\n",
      "===========================================================\n",
      "[GENESIS] 탐색 중...\n",
      "ID '38002836': 판매자가 보험이력을 공개하지 않았습니다.\n",
      "ID '38350220': 판매자가 보험이력을 공개하지 않았습니다.\n",
      "ID '38511778': 판매자가 보험이력을 공개하지 않았습니다.\n",
      "ID '38582256': 판매자가 보험이력을 공개하지 않았습니다.\n",
      "ID '38046836': 판매자가 보험이력을 공개하지 않았습니다.\n",
      "총 매물220개 탐색 완료\n",
      "===========================================================\n",
      "[KIA] 탐색 중...\n",
      "ID '37724384': 판매자가 보험이력을 공개하지 않았습니다.\n",
      "ID '38636700': 판매자가 보험이력을 공개하지 않았습니다.\n",
      "ID '38296232': 판매자가 보험이력을 공개하지 않았습니다.\n",
      "총 매물245개 탐색 완료\n",
      "===========================================================\n",
      "[CHEVROLET] 탐색 중...\n",
      "ID '38225186': 판매자가 보험이력을 공개하지 않았습니다.\n",
      "ID '37954010': 판매자가 보험이력을 공개하지 않았습니다.\n",
      "ID '38227512': 판매자가 보험이력을 공개하지 않았습니다.\n",
      "ID '38455220': 판매자가 보험이력을 공개하지 않았습니다.\n",
      "총 매물224개 탐색 완료\n",
      "===========================================================\n",
      "[RENAULT] 탐색 중...\n",
      "ID '36800906': 판매자가 보험이력을 공개하지 않았습니다.\n",
      "ID '37941557': 판매자가 보험이력을 공개하지 않았습니다.\n",
      "ID '38131302': 판매자가 보험이력을 공개하지 않았습니다.\n",
      "총 매물231개 탐색 완료\n",
      "===========================================================\n",
      "[KGMOBILITY] 탐색 중...\n",
      "ID '38354711': 판매자가 보험이력을 공개하지 않았습니다.\n",
      "ID '38582947': 판매자가 보험이력을 공개하지 않았습니다.\n",
      "ID '38632317': 판매자가 보험이력을 공개하지 않았습니다.\n",
      "ID '38530365': 판매자가 보험이력을 공개하지 않았습니다.\n",
      "ID '38617034': 판매자가 보험이력을 공개하지 않았습니다.\n",
      "ID '37887065': 판매자가 보험이력을 공개하지 않았습니다.\n",
      "총 매물220개 탐색 완료\n",
      "===========================================================\n",
      "'insurance_all.csv'파일에 병합되어 저장되었습니다.\n"
     ]
    }
   ],
   "source": [
    "def fetch_vehicle_ids(driver, base_url, pages=1):\n",
    "    # 매물 ID 불러오기\n",
    "    vehicle_ids = set()\n",
    "    for page in range(1, pages + 1):\n",
    "        driver.get(base_url.format(page=page))\n",
    "        # 요소 팝업까지 대기\n",
    "        try:\n",
    "            WebDriverWait(driver, 5).until(\n",
    "                EC.presence_of_element_located((By.XPATH, \"//div[@data-impression]\"))\n",
    "            )\n",
    "        except Exception:\n",
    "            print(f\"페이지 {page} 로드 실패. 다음 페이지로 이동합니다.\")\n",
    "            continue\n",
    "        elements = driver.find_elements(By.XPATH, \"//div[@data-impression]\")\n",
    "        vehicle_ids.update(\n",
    "            e.get_attribute(\"data-impression\").split(\"|\")[0] for e in elements if e.get_attribute(\"data-impression\")\n",
    "        )\n",
    "    return list(vehicle_ids)\n",
    "\n",
    "def fetch_insurance_history(driver, vehicle_ids, output_file):\n",
    "    # ID에 부합하는 보험이력 정보 저장\n",
    "    '''\n",
    "    ID : Vehicle ID (매물 ID)\n",
    "    N : Car Number (자동차 번호)\n",
    "    NC : Number Change History (번호 변경 이력)\n",
    "    OC : Owner Change History (소유자 변경 이력)\n",
    "    TL : Total Loss History (전손 사고 이력)\n",
    "    FD : Flood Damage History (침수 사고 이력)\n",
    "    TF : Theft History (도난 사고 이력)\n",
    "    CM : Insurance Claim of My Car (내 차 피해 이력)\n",
    "    CO : Insurance Claim of Other Car (타 차 가해 이력)\n",
    "    '''\n",
    "    fieldnames = [\"ID\", \"N\", \"NC\", \"OC\",\"TL\", \"FD\", \"TF\",\"CM\", \"CO\"]\n",
    "    data = []\n",
    "    for vid in vehicle_ids:\n",
    "        try:\n",
    "            driver.get(f\"https://fem.encar.com/cars/report/accident/{vid}\")\n",
    "            details = {\n",
    "                \"ID\": vid,\n",
    "                \"N\": WebDriverWait(driver, 1).until(\n",
    "                    EC.presence_of_element_located((By.XPATH, \"//*[@id='wrap']/div/div[2]/div[2]/dl/dd[1]\"))\n",
    "                ).text,\n",
    "                \"NC\": driver.find_element(By.XPATH, \"//*[@id='wrap']/div/div[2]/div[2]/div[1]/ul/li[3]/span/span[1]\").text,\n",
    "                \"OC\": driver.find_element(By.XPATH, \"//*[@id='wrap']/div/div[2]/div[2]/div[1]/ul/li[3]/span/span[2]\").text,\n",
    "                \"TL\": driver.find_element(By.XPATH, \"//*[@id='wrap']/div/div[2]/div[2]/div[1]/ul/li[4]/span/span[1]\").text,\n",
    "                \"FD\": driver.find_element(By.XPATH, \"//*[@id='wrap']/div/div[2]/div[2]/div[1]/ul/li[4]/span/span[2]\").text,\n",
    "                \"TF\": driver.find_element(By.XPATH, \"//*[@id='wrap']/div/div[2]/div[2]/div[1]/ul/li[4]/span/span[3]\").text,\n",
    "                \"CM\": driver.find_element(By.XPATH, \"//*[@id='wrap']/div/div[2]/div[2]/div[1]/ul/li[5]/span\").text,\n",
    "                \"CO\": driver.find_element(By.XPATH, \"//*[@id='wrap']/div/div[2]/div[2]/div[1]/ul/li[6]/span\").text\n",
    "            }\n",
    "            data.append(details)\n",
    "        except Exception:\n",
    "            print(f\"ID '{vid}': 판매자가 보험이력을 공개하지 않았습니다.\")\n",
    "    with open(output_file, \"w\", newline=\"\", encoding=\"utf-8\") as f:\n",
    "        writer = csv.DictWriter(f, fieldnames=fieldnames)\n",
    "        writer.writeheader()\n",
    "        writer.writerows(data)\n",
    "\n",
    "def merge_csv_files(files, output_file):\n",
    "    # csv파일 최종적으로 하나로 병합\n",
    "    combined_df = pd.concat([pd.read_csv(file) for file in files], ignore_index=True)\n",
    "    combined_df.to_csv(output_file, index=False, encoding=\"utf-8\")\n",
    "    print(f\"'{output_file}'파일에 병합되어 저장되었습니다.\")\n",
    "\n",
    "def main():\n",
    "    # 국산차 브랜드별 필터링 리스트\n",
    "    urls = {\n",
    "        \"HYUNDAI\": \"https://car.encar.com/list/car?page=1&search=%7B%22type%22%3A%22car%22%2C%22action%22%3A%22(And.Hidden.N._.(C.CarType.Y._.Manufacturer.%ED%98%84%EB%8C%80.))%22%2C%22title%22%3A%22%ED%98%84%EB%8C%80%22%2C%22toggle%22%3A%7B%7D%2C%22layer%22%3A%22%22%2C%22sort%22%3A%22MobileModifiedDate%22%7D\",\n",
    "        \"GENESIS\" : \"https://car.encar.com/list/car?page=1&search=%7B%22type%22%3A%22car%22%2C%22action%22%3A%22(And.Hidden.N._.(C.CarType.Y._.Manufacturer.%EC%A0%9C%EB%84%A4%EC%8B%9C%EC%8A%A4.))%22%2C%22title%22%3A%22%EC%A0%9C%EB%84%A4%EC%8B%9C%EC%8A%A4%22%2C%22toggle%22%3A%7B%7D%2C%22layer%22%3A%22%22%2C%22sort%22%3A%22MobileModifiedDate%22%7D\",\n",
    "        \"KIA\": \"https://car.encar.com/list/car?page=1&search=%7B%22type%22%3A%22car%22%2C%22action%22%3A%22(And.Hidden.N._.(C.CarType.Y._.Manufacturer.%EA%B8%B0%EC%95%84.))%22%2C%22title%22%3A%22%EA%B8%B0%EC%95%84%22%2C%22toggle%22%3A%7B%7D%2C%22layer%22%3A%22%22%2C%22sort%22%3A%22MobileModifiedDate%22%7D\",\n",
    "        \"CHEVROLET\": \"https://car.encar.com/list/car?page=1&search=%7B%22type%22%3A%22car%22%2C%22action%22%3A%22(And.Hidden.N._.(C.CarType.Y._.Manufacturer.%EC%89%90%EB%B3%B4%EB%A0%88(GM%EB%8C%80%EC%9A%B0_).))%22%2C%22title%22%3A%22%EC%89%90%EB%B3%B4%EB%A0%88(GM%EB%8C%80%EC%9A%B0)%22%2C%22toggle%22%3A%7B%7D%2C%22layer%22%3A%22%22%2C%22sort%22%3A%22MobileModifiedDate%22%7D\",\n",
    "        \"RENAULT\": \"https://car.encar.com/list/car?page=1&search=%7B%22type%22%3A%22car%22%2C%22action%22%3A%22(And.Hidden.N._.(C.CarType.Y._.Manufacturer.%EB%A5%B4%EB%85%B8%EC%BD%94%EB%A6%AC%EC%95%84(%EC%82%BC%EC%84%B1_).))%22%2C%22title%22%3A%22%EB%A5%B4%EB%85%B8%EC%BD%94%EB%A6%AC%EC%95%84(%EC%82%BC%EC%84%B1)%22%2C%22toggle%22%3A%7B%7D%2C%22layer%22%3A%22%22%2C%22sort%22%3A%22MobileModifiedDate%22%7D\",\n",
    "        \"KGMOBILITY\": \"https://car.encar.com/list/car?page=1&search=%7B%22type%22%3A%22car%22%2C%22action%22%3A%22(And.Hidden.N._.(C.CarType.Y._.Manufacturer.KG%EB%AA%A8%EB%B9%8C%EB%A6%AC%ED%8B%B0(%EC%8C%8D%EC%9A%A9_).))%22%2C%22title%22%3A%22KG%EB%AA%A8%EB%B9%8C%EB%A6%AC%ED%8B%B0(%EC%8C%8D%EC%9A%A9)%22%2C%22toggle%22%3A%7B%7D%2C%22layer%22%3A%22%22%2C%22sort%22%3A%22MobileModifiedDate%22%7D\"\n",
    "    }\n",
    "\n",
    "    # ChromeDriver 경로 지정\n",
    "    driver_path = \"./chromedriver-win64/chromedriver.exe\" \n",
    "    \n",
    "    # Chrome WebDriver 실행\n",
    "    driver = webdriver.Chrome(executable_path=driver_path)\n",
    "\n",
    "    try:\n",
    "        csv_files = []\n",
    "        for brand, url in urls.items():\n",
    "            print(f\"[{brand}] 탐색 중...\")\n",
    "            ids = fetch_vehicle_ids(driver, url)\n",
    "            output_file = f\"insurance_{brand}.csv\"\n",
    "            fetch_insurance_history(driver, ids, output_file)\n",
    "            csv_files.append(output_file)\n",
    "            print(f\"총 매물{len(ids)}개 탐색 완료\")\n",
    "            print(f\"===========================================================\")\n",
    "        merge_csv_files(csv_files, \"insurance_all.csv\")\n",
    "    finally:\n",
    "        driver.quit()\n",
    "\n",
    "if __name__ == \"__main__\":\n",
    "    main()"
   ]
  }
 ],
 "metadata": {
  "kernelspec": {
   "display_name": "Python 3.6",
   "language": "python",
   "name": "python36"
  },
  "language_info": {
   "codemirror_mode": {
    "name": "ipython",
    "version": 3
   },
   "file_extension": ".py",
   "mimetype": "text/x-python",
   "name": "python",
   "nbconvert_exporter": "python",
   "pygments_lexer": "ipython3",
   "version": "3.6.5"
  }
 },
 "nbformat": 4,
 "nbformat_minor": 5
}
