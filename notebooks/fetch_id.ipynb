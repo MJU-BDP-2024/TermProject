{
 "cells": [
  {
   "cell_type": "markdown",
   "id": "95155f4b",
   "metadata": {},
   "source": [
    "<span style=\"color:#FF7A00; font-size:30px; font-weight:bold;\">\n",
    "BDP Term Project (1조)\n",
    "</span>"
   ]
  },
  {
   "cell_type": "markdown",
   "id": "0312b4e8",
   "metadata": {},
   "source": [
    "<span style=\"font-size:20px; font-weight:bold;\">\n",
    "encar.com에서 국산 중고차 매물별 보험이력 불러오기\n",
    "</span>"
   ]
  },
  {
   "cell_type": "markdown",
   "id": "2f296596",
   "metadata": {},
   "source": [
    "<span style=\"font-size:17px; font-weight:bold;\">\n",
    "Driver Load\n",
    "</span>"
   ]
  },
  {
   "cell_type": "code",
   "execution_count": 1,
   "id": "19f5cf2d",
   "metadata": {
    "ExecuteTime": {
     "end_time": "2024-12-02T07:28:18.429610Z",
     "start_time": "2024-12-02T07:28:14.031885Z"
    }
   },
   "outputs": [
    {
     "name": "stdout",
     "output_type": "stream",
     "text": [
      "작업 완료\n"
     ]
    }
   ],
   "source": [
    "from selenium import webdriver\n",
    "from selenium.webdriver.common.by import By\n",
    "from selenium.webdriver.chrome.service import Service\n",
    "from selenium.webdriver.chrome.options import Options\n",
    "from selenium.webdriver.support import expected_conditions as EC\n",
    "from selenium.webdriver.support.ui import WebDriverWait\n",
    "from webdriver_manager.chrome import ChromeDriverManager\n",
    "\n",
    "import csv\n",
    "import time\n",
    "\n",
    "print(\"작업 완료\")"
   ]
  },
  {
   "cell_type": "code",
   "execution_count": 2,
   "id": "068bb499-b94d-4961-8ca3-024ed75bcc23",
   "metadata": {},
   "outputs": [],
   "source": [
    "# Chrome 브라우저의 옵션을 설정\n",
    "chrome_options = Options()\n",
    "prefs = {\"profile.managed_default_content_settings.images\": 2}\n",
    "chrome_options.add_experimental_option(\"prefs\", prefs)\n",
    "\n",
    "# Chrome 드라이버 생성시 옵션을 설정\n",
    "driver = webdriver.Chrome(service=Service(ChromeDriverManager().install()), options=chrome_options)"
   ]
  },
  {
   "cell_type": "markdown",
   "id": "6a9b95e9-a753-4f25-b293-5ea1483a9522",
   "metadata": {},
   "source": [
    "### 크롤링 셋업"
   ]
  },
  {
   "cell_type": "markdown",
   "id": "fa139b38-9671-45a9-9509-2300a49f42ba",
   "metadata": {},
   "source": [
    "#### 페이지 탐색 횟수 설정"
   ]
  },
  {
   "cell_type": "code",
   "execution_count": 3,
   "id": "4228df62-58d6-4c1f-b595-6d6f309d04d4",
   "metadata": {},
   "outputs": [],
   "source": [
    "max_iter = 1000"
   ]
  },
  {
   "cell_type": "markdown",
   "id": "5d1827a8-7353-46b7-b4b8-b8ffbf18c4d1",
   "metadata": {},
   "source": [
    "### crawling"
   ]
  },
  {
   "cell_type": "code",
   "execution_count": 4,
   "id": "1cb92016-b43d-49e2-9dd1-c947f79cc940",
   "metadata": {},
   "outputs": [
    {
     "name": "stdout",
     "output_type": "stream",
     "text": [
      "페이지 595 로드 실패. 크롤링을 중단합니다.\n",
      "매물 데이터 118419개가 vehicles_id_price.csv 파일에 저장되었습니다.\n"
     ]
    }
   ],
   "source": [
    "def main():\n",
    "    base_url = \"https://car.encar.com/list/car?page={page}&search=%7B%22action%22%3A%22(And.Hidden.N._.CarType.Y.)%22%2C%22sort%22%3A%22MobileModifiedDate%22%7D\"\n",
    "    vehicles = fetch_vehicle_ids(driver, base_url, max_iter)\n",
    "        \n",
    "    output_file = \"vehicles_id_price.csv\"\n",
    "    try:\n",
    "        with open(output_file, mode=\"w\", newline=\"\", encoding=\"utf-8\") as file:\n",
    "            writer = csv.writer(file)\n",
    "            writer.writerow([\"id\", \"price\"])  # 헤더 작성\n",
    "            for vehicle_id, price in vehicles.items():\n",
    "                writer.writerow([vehicle_id, price])\n",
    "        print(f\"매물 데이터 {len(vehicles)}개가 {output_file} 파일에 저장되었습니다.\")\n",
    "    except Exception as e:\n",
    "        print(\"CSV 저장 중 오류 발생:\", e)\n",
    "\n",
    "def fetch_vehicle_ids(driver, base_url, max_iter = 1):\n",
    "    vehicles = {}\n",
    "    \n",
    "    for page in range(1, max_iter + 1):\n",
    "        driver.get(base_url.format(page = page))\n",
    "    \n",
    "        # 요소 팝업까지 대기 및 무결성 검사 \n",
    "        try:\n",
    "            WebDriverWait(driver, 5).until(\n",
    "                EC.presence_of_element_located((By.XPATH, \"//div[@data-impression]\")))\n",
    "            elements = driver.find_elements(By.XPATH, \"//div[@data-impression]\")\n",
    "        except Exception:\n",
    "            print(f\"페이지 {page} 로드 실패. 크롤링을 중단합니다.\")\n",
    "            break\n",
    "\n",
    "        # 페이지에 데이터 추출 후 dict에 보관\n",
    "        for e in elements:\n",
    "            data_impression = e.get_attribute(\"data-impression\")\n",
    "            if data_impression:\n",
    "                # data-impression 값을 분리하여 id와 price 추출\n",
    "                parts = data_impression.split(\"|\")\n",
    "                if len(parts) >= 2:\n",
    "                    vehicle_id = parts[0]  # ID\n",
    "                    price = parts[1]       # 가격\n",
    "                    # 중복되지 않게 저장\n",
    "                    vehicles[vehicle_id] = price\n",
    "    return vehicles\n",
    "\n",
    "if __name__ == \"__main__\":\n",
    "    main()"
   ]
  },
  {
   "cell_type": "code",
   "execution_count": 5,
   "id": "9b526f82-150d-49b8-bc79-708ea356cb69",
   "metadata": {},
   "outputs": [],
   "source": [
    "try:\n",
    "    driver.close()\n",
    "except:\n",
    "    print(\"driver 연결 오류\")"
   ]
  }
 ],
 "metadata": {
  "kernelspec": {
   "display_name": "Python 3 (ipykernel)",
   "language": "python",
   "name": "python3"
  },
  "language_info": {
   "codemirror_mode": {
    "name": "ipython",
    "version": 3
   },
   "file_extension": ".py",
   "mimetype": "text/x-python",
   "name": "python",
   "nbconvert_exporter": "python",
   "pygments_lexer": "ipython3",
   "version": "3.12.7"
  }
 },
 "nbformat": 4,
 "nbformat_minor": 5
}
