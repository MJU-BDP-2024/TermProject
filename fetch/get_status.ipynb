{
 "cells": [
  {
   "cell_type": "markdown",
   "id": "8b80b741",
   "metadata": {},
   "source": [
    "## 성능점검 추출 코드"
   ]
  },
  {
   "cell_type": "code",
   "execution_count": 1,
   "id": "0fc80d58-7c09-4700-9e89-ff3e56a68a39",
   "metadata": {},
   "outputs": [
    {
     "name": "stdout",
     "output_type": "stream",
     "text": [
      "작업 완료\n"
     ]
    }
   ],
   "source": [
    "import csv\n",
    "import time\n",
    "import re\n",
    "import numpy as np\n",
    "import pandas as pd\n",
    "from selenium import webdriver\n",
    "from selenium.webdriver.common.by import By\n",
    "from selenium.webdriver.chrome.options import Options\n",
    "from selenium.webdriver.chrome.service import Service\n",
    "from selenium.webdriver.support.ui import WebDriverWait\n",
    "from selenium.webdriver.support import expected_conditions as EC\n",
    "from webdriver_manager.chrome import ChromeDriverManager\n",
    "\n",
    "# Chrome 드라이버 생성시 옵션을 설정\n",
    "driver = webdriver.Chrome(service=Service(ChromeDriverManager().install()))\n",
    "\n",
    "print(\"작업 완료\")"
   ]
  },
  {
   "cell_type": "code",
   "execution_count": null,
   "id": "3bde1ade-d3f6-40a9-8ba8-fdca216412d1",
   "metadata": {},
   "outputs": [],
   "source": [
    "MAX_FETCH_COUNT = 25600\n",
    "SPLIT_CSV = False\n",
    "SPLIT_INDEX = 1\n",
    "INPUT_FILE_PATH = \"../export/vehicles_price.csv\"\n",
    "OUTPUT_FILE_PATH = \"../export/vehicles_status.csv\""
   ]
  },
  {
   "cell_type": "code",
   "execution_count": 3,
   "id": "2a94b37e-cd7b-439c-8294-f7fd7930f6b2",
   "metadata": {},
   "outputs": [
    {
     "name": "stdout",
     "output_type": "stream",
     "text": [
      "ID '38174011': 판매자가 성능 점검 기록을 공개하지 않았습니다.\n",
      "ID '38317886': 판매자가 성능 점검 기록을 공개하지 않았습니다.\n",
      "\n",
      "누적 조회 수: 48개 중 20개\n",
      "\n",
      "ID '38257511': 판매자가 성능 점검 기록을 공개하지 않았습니다.\n",
      "ID '37436440': 판매자가 성능 점검 기록을 공개하지 않았습니다.\n",
      "\n",
      "누적 조회 수: 48개 중 40개\n",
      "\n",
      "ID '38597755': 판매자가 성능 점검 기록을 공개하지 않았습니다.\n",
      "43개 성능 점검 데이터가 저장되었습니다.\n"
     ]
    }
   ],
   "source": [
    "def main():\n",
    "    try:\n",
    "        if SPLIT_CSV:\n",
    "            file_name = f\"{SPLIT_INDEX}_{INPUT_FILE_PATH}\"\n",
    "        else:\n",
    "            file_name = INPUT_FILE_PATH\n",
    "        df = pd.read_csv(file_name)\n",
    "        ids = df['id'].tolist()\n",
    "        output_file_name = OUTPUT_FILE_PATH\n",
    "        fetch_insurance_history(driver, ids, output_file_name)\n",
    "    finally:\n",
    "        driver.quit()\n",
    "\n",
    "def fetch_insurance_history(driver, vehicle_ids, output_file):\n",
    "    fieldnames = [\"id\", \"transmission\", \"warranty\", \"mileage\", \"tuning_history\",\n",
    "                  \"special_history\", \"usage_change\", \"accident\", \"little_accident\"]\n",
    "    data = []\n",
    "    count = 0\n",
    "    log_count = 0\n",
    "    for i, vid in enumerate(vehicle_ids):\n",
    "        try:\n",
    "            log_count += 1\n",
    "            if log_count >= 20: \n",
    "                print(f\"\\n누적 조회 수: {len(vehicle_ids)}개 중 {i + 1}개\\n\")\n",
    "                log_count = 0\n",
    "                \n",
    "            driver.get(f\"https://fem.encar.com/cars/report/inspect/{vid}\")\n",
    "            WebDriverWait(driver, 1).until(EC.presence_of_element_located((By.XPATH, \"//*[@id='wrap']/div/div[2]/div[2]/ul[2]/li[1]/span[2]\")))\n",
    "            details = {\n",
    "                \"id\": vid,\n",
    "                \"transmission\": driver.find_element(By.XPATH, \"//ul[@class='ReportInspectList_list_inspect__VRO1O'][1]/li[1]/span[2]\").text,\n",
    "                \"warranty\": driver.find_element(By.XPATH, \"//ul[@class='ReportInspectList_list_inspect__VRO1O'][1]/li[3]/span[2]\").text,\n",
    "                \"mileage\": driver.find_element(By.XPATH, \"//ul[@class='ReportInspectList_list_inspect__VRO1O'][2]/li[2]/span[2]\").text,\n",
    "                \"tuning_history\": driver.find_element(By.XPATH, \"//ul[@class='ReportInspectList_list_inspect__VRO1O'][2]/li[4]/span[2]\").text,\n",
    "                \"special_history\": driver.find_element(By.XPATH, \"//ul[@class='ReportInspectList_list_inspect__VRO1O'][2]/li[5]/span[2]\").text,\n",
    "                \"usage_change\": driver.find_element(By.XPATH, \"//ul[@class='ReportInspectList_list_inspect__VRO1O'][2]/li[6]/span[2]\").text,\n",
    "                \"accident\": driver.find_element(By.XPATH, \"//ul[@class='ReportInspectList_list_inspect__VRO1O'][3]/li[1]/span[2]\").text,\n",
    "                \"little_accident\": driver.find_element(By.XPATH, \"//ul[@class='ReportInspectList_list_inspect__VRO1O'][3]/li[2]/span[2]\").text\n",
    "            }\n",
    "            data.append(details)\n",
    "            count += 1\n",
    "            \n",
    "            if(count > MAX_FETCH_COUNT) : \n",
    "                print(f\"{count}개 성능 점검 데이터 추출 완료\")\n",
    "                break;\n",
    "        except Exception:\n",
    "            print(f\"ID '{vid}': 판매자가 성능 점검 기록을 공개하지 않았습니다.\")\n",
    "            \n",
    "    with open(output_file, \"w\", newline=\"\", encoding=\"utf-8\") as f:\n",
    "        writer = csv.DictWriter(f, fieldnames=fieldnames)\n",
    "        writer.writeheader()\n",
    "        writer.writerows(data)\n",
    "        print(f\"{count}개 성능 점검 데이터가 저장되었습니다.\")\n",
    "\n",
    "if __name__ == \"__main__\":\n",
    "    main()\n"
   ]
  }
 ],
 "metadata": {
  "kernelspec": {
   "display_name": "Python 3",
   "language": "python",
   "name": "python3"
  },
  "language_info": {
   "codemirror_mode": {
    "name": "ipython",
    "version": 3
   },
   "file_extension": ".py",
   "mimetype": "text/x-python",
   "name": "python",
   "nbconvert_exporter": "python",
   "pygments_lexer": "ipython3",
   "version": "3.13.1"
  }
 },
 "nbformat": 4,
 "nbformat_minor": 5
}
