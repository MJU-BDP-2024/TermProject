{
 "cells": [
  {
   "cell_type": "markdown",
   "id": "95155f4b",
   "metadata": {},
   "source": [
    "<span style=\"color:#FF7A00; font-size:30px; font-weight:bold;\">\n",
    "BDP Term Project (1조)\n",
    "</span>"
   ]
  },
  {
   "cell_type": "markdown",
   "id": "0312b4e8",
   "metadata": {},
   "source": [
    "<span style=\"font-size:20px; font-weight:bold;\">\n",
    "encar.com에서 국산 중고차 매물별 보험이력 불러오기\n",
    "</span>"
   ]
  },
  {
   "cell_type": "markdown",
   "id": "2f296596",
   "metadata": {},
   "source": [
    "<span style=\"font-size:17px; font-weight:bold;\">\n",
    "Driver Load\n",
    "</span>"
   ]
  },
  {
   "cell_type": "code",
   "execution_count": 8,
   "id": "19f5cf2d",
   "metadata": {
    "ExecuteTime": {
     "end_time": "2024-12-02T07:28:18.429610Z",
     "start_time": "2024-12-02T07:28:14.031885Z"
    }
   },
   "outputs": [
    {
     "name": "stdout",
     "output_type": "stream",
     "text": [
      "작업 완료\n"
     ]
    }
   ],
   "source": [
    "from selenium import webdriver\n",
    "from selenium.webdriver.common.by import By\n",
    "from selenium.webdriver.chrome.service import Service\n",
    "from selenium.webdriver.chrome.options import Options\n",
    "from selenium.webdriver.support import expected_conditions as EC\n",
    "from selenium.webdriver.support.ui import WebDriverWait\n",
    "from webdriver_manager.chrome import ChromeDriverManager\n",
    "import csv\n",
    "import time\n",
    "\n",
    "driver = webdriver.Chrome(service=Service(ChromeDriverManager().install()))\n",
    "\n",
    "print(\"작업 완료\")"
   ]
  },
  {
   "cell_type": "markdown",
   "id": "6a9b95e9-a753-4f25-b293-5ea1483a9522",
   "metadata": {},
   "source": [
    "### 크롤링 셋업\n",
    "#### `MAX_FETCH_COUNT`\n",
    "- 매물 리스트 조회 횟수 조절\n",
    "- `count` `1` 당 `250` 개의 매물 `id` 와 `price` 데이터를 가져옴\n",
    "- 대략 `650` 정도 값이면 국산차 매물 데이터를 전부 가져올 수 있음\n",
    "#### `OUTPUT_FILE_PATH`\n",
    "- 파일 저장 경로를 설정"
   ]
  },
  {
   "cell_type": "code",
   "execution_count": 9,
   "id": "4228df62-58d6-4c1f-b595-6d6f309d04d4",
   "metadata": {},
   "outputs": [],
   "source": [
    "MAX_FETCH_COUNT = 650\n",
    "OUTPUT_FILE_PATH = \"./vehicles_price.csv\""
   ]
  },
  {
   "cell_type": "markdown",
   "id": "5d1827a8-7353-46b7-b4b8-b8ffbf18c4d1",
   "metadata": {},
   "source": [
    "### crawling"
   ]
  },
  {
   "cell_type": "code",
   "execution_count": 10,
   "id": "1cb92016-b43d-49e2-9dd1-c947f79cc940",
   "metadata": {},
   "outputs": [
    {
     "name": "stdout",
     "output_type": "stream",
     "text": [
      "650개 중 20번째 페이지 로드중\n",
      "650개 중 40번째 페이지 로드중\n",
      "650개 중 60번째 페이지 로드중\n",
      "650개 중 80번째 페이지 로드중\n",
      "650개 중 100번째 페이지 로드중\n",
      "650개 중 120번째 페이지 로드중\n",
      "650개 중 140번째 페이지 로드중\n",
      "650개 중 160번째 페이지 로드중\n",
      "650개 중 180번째 페이지 로드중\n",
      "650개 중 200번째 페이지 로드중\n",
      "650개 중 220번째 페이지 로드중\n",
      "650개 중 240번째 페이지 로드중\n",
      "650개 중 260번째 페이지 로드중\n",
      "650개 중 280번째 페이지 로드중\n",
      "650개 중 300번째 페이지 로드중\n",
      "650개 중 320번째 페이지 로드중\n",
      "650개 중 340번째 페이지 로드중\n",
      "650개 중 360번째 페이지 로드중\n",
      "650개 중 380번째 페이지 로드중\n",
      "650개 중 400번째 페이지 로드중\n",
      "650개 중 420번째 페이지 로드중\n",
      "650개 중 440번째 페이지 로드중\n",
      "650개 중 460번째 페이지 로드중\n",
      "650개 중 480번째 페이지 로드중\n",
      "650개 중 500번째 페이지 로드중\n",
      "650개 중 520번째 페이지 로드중\n",
      "650개 중 540번째 페이지 로드중\n",
      "650개 중 560번째 페이지 로드중\n",
      "650개 중 580번째 페이지 로드중\n",
      "650개 중 600번째 페이지 로드중\n",
      "650개 중 620번째 페이지 로드중\n",
      "페이지 626 로드 실패. 크롤링을 중단합니다.\n",
      "매물 데이터 110532개가 ./vehicles_price.csv 파일에 저장되었습니다.\n"
     ]
    }
   ],
   "source": [
    "def main():\n",
    "    base_url = \"https://car.encar.com/list/car?page={page}&search=%7B%22action%22%3A%22(And.Hidden.N._.CarType.Y.)%22%2C%22sort%22%3A%22MobileModifiedDate%22%7D\"\n",
    "    vehicles = fetch_vehicle_ids(driver, base_url, MAX_FETCH_COUNT)\n",
    "        \n",
    "    output_file = OUTPUT_FILE_PATH\n",
    "    try:\n",
    "        with open(output_file, mode=\"w\", newline=\"\", encoding=\"utf-8\") as file:\n",
    "            writer = csv.writer(file)\n",
    "            writer.writerow([\"id\", \"price\"])  # 헤더 작성\n",
    "            for vehicle_id, price in vehicles.items():\n",
    "                writer.writerow([vehicle_id, price])\n",
    "        print(f\"매물 데이터 {len(vehicles)}개가 {output_file} 파일에 저장되었습니다.\")\n",
    "    except Exception as e:\n",
    "        print(\"CSV 저장 중 오류 발생:\", e)\n",
    "\n",
    "def fetch_vehicle_ids(driver, base_url, max_fetch_count = 1):\n",
    "    vehicles = {}\n",
    "    \n",
    "    log_timing = 0\n",
    "    for page in range(1, max_fetch_count + 1):\n",
    "        log_timing += 1\n",
    "        if(log_timing >= 20):\n",
    "            print(f\"{max_fetch_count}개 중 {page}번째 페이지 로드중\")\n",
    "            log_timing = 0\n",
    "\n",
    "        driver.get(base_url.format(page = page))\n",
    "    \n",
    "        # 요소 팝업까지 대기 및 무결성 검사 \n",
    "        try:\n",
    "            WebDriverWait(driver, 5).until(\n",
    "                EC.presence_of_element_located((By.XPATH, \"//div[@data-impression]\")))\n",
    "            elements = driver.find_elements(By.XPATH, \"//div[@data-impression]\")\n",
    "        except Exception:\n",
    "            print(f\"페이지 {page} 로드 실패. 크롤링을 중단합니다.\")\n",
    "            break\n",
    "\n",
    "        # 페이지에 데이터 추출 후 dict에 보관\n",
    "        for e in elements:\n",
    "            is_reserved = e.find_elements(By.XPATH, \".//span[contains(text(), '계약중')]\")\n",
    "            if is_reserved: \n",
    "                continue # '계약중'인 경우 건너뜀\n",
    "\n",
    "            data_impression = e.get_attribute(\"data-impression\")\n",
    "            if data_impression:\n",
    "                # data-impression 값을 분리하여 id와 price 추출\n",
    "                parts = data_impression.split(\"|\")\n",
    "                if len(parts) >= 2:\n",
    "                    vehicle_id = parts[0]  # ID\n",
    "                    price = parts[1]       # 가격\n",
    "                    # 중복되지 않게 저장\n",
    "                    vehicles[vehicle_id] = price\n",
    "    return vehicles\n",
    "\n",
    "if __name__ == \"__main__\":\n",
    "    main()"
   ]
  },
  {
   "cell_type": "code",
   "execution_count": 11,
   "id": "9b526f82-150d-49b8-bc79-708ea356cb69",
   "metadata": {},
   "outputs": [],
   "source": [
    "try:\n",
    "    driver.close()\n",
    "except:\n",
    "    print(\"driver 연결 오류\")"
   ]
  }
 ],
 "metadata": {
  "kernelspec": {
   "display_name": "Python 3",
   "language": "python",
   "name": "python3"
  },
  "language_info": {
   "codemirror_mode": {
    "name": "ipython",
    "version": 3
   },
   "file_extension": ".py",
   "mimetype": "text/x-python",
   "name": "python",
   "nbconvert_exporter": "python",
   "pygments_lexer": "ipython3",
   "version": "3.13.1"
  }
 },
 "nbformat": 4,
 "nbformat_minor": 5
}
