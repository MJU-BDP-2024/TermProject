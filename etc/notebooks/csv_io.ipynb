{
 "cells": [
  {
   "cell_type": "markdown",
   "id": "95155f4b",
   "metadata": {},
   "source": [
    "<span style=\"color:#FF7A00; font-size:30px; font-weight:bold;\">\n",
    "BDP Term Project (1조)\n",
    "</span>"
   ]
  },
  {
   "cell_type": "markdown",
   "id": "0312b4e8",
   "metadata": {},
   "source": [
    "<span style=\"font-size:20px; font-weight:bold;\">\n",
    "encar.com에서 국산 중고차 매물별 보험이력 불러오기\n",
    "</span>"
   ]
  },
  {
   "cell_type": "markdown",
   "id": "2f296596",
   "metadata": {},
   "source": [
    "### Driver Load"
   ]
  },
  {
   "cell_type": "code",
   "execution_count": 3,
   "id": "19f5cf2d",
   "metadata": {
    "ExecuteTime": {
     "end_time": "2024-12-02T07:28:18.429610Z",
     "start_time": "2024-12-02T07:28:14.031885Z"
    }
   },
   "outputs": [
    {
     "name": "stdout",
     "output_type": "stream",
     "text": [
      "작업 완료\n"
     ]
    }
   ],
   "source": [
    "from selenium import webdriver\n",
    "from selenium.webdriver.common.by import By\n",
    "from selenium.webdriver.chrome.service import Service\n",
    "from selenium.webdriver.chrome.options import Options\n",
    "from selenium.webdriver.support import expected_conditions as EC\n",
    "from selenium.webdriver.support.ui import WebDriverWait\n",
    "from webdriver_manager.chrome import ChromeDriverManager\n",
    "\n",
    "import csv\n",
    "import time\n",
    "\n",
    "print(\"작업 완료\")"
   ]
  },
  {
   "cell_type": "code",
   "execution_count": 2,
   "id": "068bb499-b94d-4961-8ca3-024ed75bcc23",
   "metadata": {},
   "outputs": [],
   "source": [
    "# Chrome 브라우저의 옵션을 설정\n",
    "chrome_options = Options()\n",
    "prefs = {\"profile.managed_default_content_settings.images\": 2}\n",
    "chrome_options.add_experimental_option(\"prefs\", prefs)\n",
    "\n",
    "# Chrome 드라이버 생성시 옵션을 설정\n",
    "driver = webdriver.Chrome(service=Service(ChromeDriverManager().install()), options=chrome_options)"
   ]
  },
  {
   "cell_type": "markdown",
   "id": "4a698e74-4762-4215-8ee8-9ce3f869b8c2",
   "metadata": {},
   "source": [
    "### load csv\n",
    "#### 사용방법\n",
    "- `file_path`를 수정\n",
    "- `ids_file_path` = `id, price`가 포함되어있는 `csv`파일의 경로 / 기본값: `\"../export/vehicles_id_price.csv\"`\n",
    "- `output_file_path` = 결과물을 저장할 파일의 경로\n",
    "#### 코드설명\n",
    "- 프로젝트 내 `export` 폴더 내에 있는 `vehicles_id_price.csv` 에서 전체 매물의 `id`를 가져옵니다.\n",
    "- 이미 크롤링이 완료된 `id`를 제외해서 `ids` 변수에 저장합니다."
   ]
  },
  {
   "cell_type": "code",
   "execution_count": 21,
   "id": "fcb13c5f-028f-43f5-98d5-bfb4d6a48e1e",
   "metadata": {},
   "outputs": [
    {
     "name": "stdout",
     "output_type": "stream",
     "text": [
      "남은 id 갯수: 118419 - 1375 = 117069\n"
     ]
    }
   ],
   "source": [
    "ids_file_path = \"../export/vehicles_id_price.csv\"\n",
    "output_file_path = \"../export/insurance_all.csv\"\n",
    "\n",
    "all_ids = set()\n",
    "try:\n",
    "    with open(ids_file_path, mode=\"r\", encoding=\"utf-8\") as file:\n",
    "        reader = csv.DictReader(file)\n",
    "        for row in reader:\n",
    "            all_ids.add(row[\"id\"])\n",
    "except:\n",
    "    print(f\"{ids_file_path} 파일이 존재하지 않습니다.\")\n",
    "\n",
    "\n",
    "existing_ids = set()\n",
    "try:\n",
    "    with open(output_file_path, mode=\"r\", encoding=\"utf-8\") as file:\n",
    "        reader = csv.DictReader(file)\n",
    "        for row in reader:\n",
    "            existing_ids.add(row[\"ID\"])\n",
    "except FileNotFoundError:\n",
    "    print(f\"{output_file_path} 파일이 존재하지 않습니다.\")\n",
    "\n",
    "if len(all_ids) == 0:\n",
    "    print(\"파일 경로를 다시 입력해주세요.\")\n",
    "else:\n",
    "    if len(existing_ids) == 0:\n",
    "        ids = all_ids\n",
    "        print(f\"남은 id 갯수: {len(ids)}\")\n",
    "    else:\n",
    "        ids = all_ids - existing_ids\n",
    "        print(f\"남은 id 갯수: {len(all_ids)} - {len(existing_ids)} = {len(ids)}\")"
   ]
  },
  {
   "cell_type": "markdown",
   "id": "5d1827a8-7353-46b7-b4b8-b8ffbf18c4d1",
   "metadata": {},
   "source": [
    "### crawling"
   ]
  },
  {
   "cell_type": "code",
   "execution_count": 4,
   "id": "1cb92016-b43d-49e2-9dd1-c947f79cc940",
   "metadata": {},
   "outputs": [
    {
     "name": "stdout",
     "output_type": "stream",
     "text": [
      "페이지 595 로드 실패. 크롤링을 중단합니다.\n",
      "매물 데이터 118419개가 vehicles_id_price.csv 파일에 저장되었습니다.\n"
     ]
    }
   ],
   "source": [
    "def main():\n",
    "    base_url = \"https://fem.encar.com/cars/report/accident/{id}\" # 보험이력 조회 링크\n",
    "    # base_url = \"https://fem.encar.com/cars/report/inspect/{id}\" # 성능점검 조회 링크\n",
    "    vehicles = fetch_vehicle_ids(driver, base_url, max_iter)\n",
    "        \n",
    "    output_file = \"vehicles_id_price.csv\"\n",
    "    try:\n",
    "        with open(output_file, mode=\"w\", newline=\"\", encoding=\"utf-8\") as file:\n",
    "            writer = csv.writer(file)\n",
    "            writer.writerow([\"id\", \"price\"])  # 헤더 작성\n",
    "            for vehicle_id, price in vehicles.items():\n",
    "                writer.writerow([vehicle_id, price])\n",
    "        print(f\"매물 데이터 {len(vehicles)}개가 {output_file} 파일에 저장되었습니다.\")\n",
    "    except Exception as e:\n",
    "        print(\"CSV 저장 중 오류 발생:\", e)\n",
    "\n",
    "def fetch_vehicle_ids(driver, base_url, max_iter = 1):\n",
    "    vehicles = {}\n",
    "    \n",
    "    for page in range(1, max_iter + 1):\n",
    "        driver.get(base_url.format(page = page))\n",
    "    \n",
    "        # 요소 팝업까지 대기 및 무결성 검사 \n",
    "        try:\n",
    "            WebDriverWait(driver, 5).until(\n",
    "                EC.presence_of_element_located((By.XPATH, \"//div[@data-impression]\")))\n",
    "            elements = driver.find_elements(By.XPATH, \"//div[@data-impression]\")\n",
    "        except Exception:\n",
    "            print(f\"페이지 {page} 로드 실패. 크롤링을 중단합니다.\")\n",
    "            break\n",
    "\n",
    "        # 페이지에 데이터 추출 후 dict에 보관\n",
    "        for e in elements:\n",
    "            data_impression = e.get_attribute(\"data-impression\")\n",
    "            if data_impression:\n",
    "                # data-impression 값을 분리하여 id와 price 추출\n",
    "                parts = data_impression.split(\"|\")\n",
    "                if len(parts) >= 2:\n",
    "                    vehicle_id = parts[0]  # ID\n",
    "                    price = parts[1]       # 가격\n",
    "                    # 중복되지 않게 저장\n",
    "                    vehicles[vehicle_id] = price\n",
    "    return vehicles\n",
    "\n",
    "if __name__ == \"__main__\":\n",
    "    main()"
   ]
  },
  {
   "cell_type": "code",
   "execution_count": 5,
   "id": "9b526f82-150d-49b8-bc79-708ea356cb69",
   "metadata": {},
   "outputs": [],
   "source": [
    "try:\n",
    "    driver.close()\n",
    "except:\n",
    "    print(\"driver 연결 오류\")"
   ]
  },
  {
   "cell_type": "code",
   "execution_count": null,
   "id": "103b4c95-6f1b-4f89-be34-b0915b99cb0d",
   "metadata": {},
   "outputs": [],
   "source": []
  }
 ],
 "metadata": {
  "kernelspec": {
   "display_name": "Python 3 (ipykernel)",
   "language": "python",
   "name": "python3"
  },
  "language_info": {
   "codemirror_mode": {
    "name": "ipython",
    "version": 3
   },
   "file_extension": ".py",
   "mimetype": "text/x-python",
   "name": "python",
   "nbconvert_exporter": "python",
   "pygments_lexer": "ipython3",
   "version": "3.12.7"
  }
 },
 "nbformat": 4,
 "nbformat_minor": 5
}
